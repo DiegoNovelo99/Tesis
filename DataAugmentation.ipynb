{
 "cells": [
  {
   "cell_type": "code",
   "execution_count": null,
   "id": "918b2558",
   "metadata": {},
   "outputs": [],
   "source": [
    "import cv2 as cv2\n",
    "\n",
    "# Carpeta de entrada con las imágenes originales\n",
    "input_folder = r\"C:\\Users\\diego\\Desktop\\Tesis\\Tesis\\Dataset\\Muerdago\"\n",
    "\n",
    "# Carpeta de salida para guardar las imágenes rotadas\n",
    "output_folder = r\"C:\\Users\\diego\\Desktop\\Tesis\\Tesis\\Dataset\\315\"\n",
    "\n",
    "# Lista de ángulos de rotación en grados\n",
    "angulos_de_rotacion = [220]\n",
    "\n",
    "# Asegurarse de que la carpeta de salida exista\n",
    "if not os.path.exists(output_folder):\n",
    "    os.makedirs(output_folder)\n",
    "\n",
    "# Función para rotar una imagen en un ángulo dado\n",
    "def rotar_imagen(imagen, angulo):\n",
    "    altura, ancho = imagen.shape[:2]\n",
    "    centro = (ancho // 2, altura // 2)\n",
    "    matriz_rotacion = cv2.getRotationMatrix2D(centro, angulo, 1.0)\n",
    "    imagen_rotada = cv2.warpAffine(imagen, matriz_rotacion, (ancho, altura))\n",
    "    return imagen_rotada\n",
    "\n",
    "# Iterar a través de las imágenes en la carpeta de entrada\n",
    "for filename in os.listdir(input_folder):\n",
    "    if filename.endswith(\".jpg\") or filename.endswith(\".png\"):\n",
    "        imagen_path = os.path.join(input_folder, filename)\n",
    "        imagen = cv2.imread(imagen_path)\n",
    "\n",
    "        # Aplicar rotación a la imagen para cada ángulo en la lista\n",
    "        for angulo in angulos_de_rotacion:\n",
    "            imagen_rotada = rotar_imagen(imagen, angulo)\n",
    "\n",
    "            # Guardar la imagen rotada en la carpeta de salida\n",
    "            output_filename = f\"{os.path.splitext(filename)[0]}_{angulo}grados.jpg\"\n",
    "            output_path = os.path.join(output_folder, output_filename)\n",
    "            cv2.imwrite(output_path, imagen_rotada)\n",
    "\n",
    "print(\"Proceso de rotación completado. Las imágenes rotadas se han guardado en la carpeta de salida.\")"
   ]
  },
  {
   "cell_type": "code",
   "execution_count": null,
   "id": "4807894a",
   "metadata": {},
   "outputs": [],
   "source": []
  }
 ],
 "metadata": {
  "kernelspec": {
   "display_name": "Python 3 (ipykernel)",
   "language": "python",
   "name": "python3"
  },
  "language_info": {
   "codemirror_mode": {
    "name": "ipython",
    "version": 3
   },
   "file_extension": ".py",
   "mimetype": "text/x-python",
   "name": "python",
   "nbconvert_exporter": "python",
   "pygments_lexer": "ipython3",
   "version": "3.11.5"
  }
 },
 "nbformat": 4,
 "nbformat_minor": 5
}
