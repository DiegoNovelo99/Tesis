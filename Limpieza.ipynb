{
 "cells": [
  {
   "cell_type": "code",
   "execution_count": null,
   "id": "7a6445df",
   "metadata": {},
   "outputs": [],
   "source": [
    "from PIL import Image\n",
    "\n",
    "# Función para determinar si una imagen tiene más del 90% de píxeles negros\n",
    "def tiene_mas_del_90_por_ciento_de_negros(imagen, umbral=10):\n",
    "    # Abre la imagen\n",
    "    with Image.open(imagen) as img:\n",
    "        # Obtiene las dimensiones de la imagen\n",
    "        width, height = img.size\n",
    "        \n",
    "        # Contador de píxeles negros\n",
    "        pxeles_negros = 0\n",
    "        \n",
    "        # Recorre todos los píxeles de la imagen\n",
    "        for x in range(width):\n",
    "            for y in range(height):\n",
    "                # Obtiene el color del píxel en forma de tupla (R, G, B)\n",
    "                pixel = img.getpixel((x, y))\n",
    "                \n",
    "                # Verifica si todos los componentes de color están por debajo del umbral\n",
    "                if all(componente <= umbral for componente in pixel):\n",
    "                    pxeles_negros += 1\n",
    "        \n",
    "        # Calcula el porcentaje de píxeles negros\n",
    "        porcentaje_negros = (pxeles_negros / (width * height)) * 100\n",
    "        \n",
    "        # Determina si la imagen tiene más del 90% de píxeles negros\n",
    "        return porcentaje_negros >= 10\n",
    "\n",
    "# Ruta al directorio que contiene las imágenes\n",
    "directorio_imagenes = r\"C:\\Users\\diego\\Desktop\\Tesis16x16\\DataSets\\Dataset16x16\\DataSetEntrenamiento16\\Muerdago\\T315\"\n",
    "\n",
    "# Listar todas las imágenes en el directorio\n",
    "import os\n",
    "\n",
    "for archivo in os.listdir(directorio_imagenes):\n",
    "    ruta_completa = os.path.join(directorio_imagenes, archivo)\n",
    "    if os.path.isfile(ruta_completa):\n",
    "        if tiene_mas_del_90_por_ciento_de_negros(ruta_completa):\n",
    "            # Elimina la imagen si cumple con el criterio\n",
    "            os.remove(ruta_completa)\n",
    "            print(f\"Imagen eliminada: {archivo}\")"
   ]
  },
  {
   "cell_type": "code",
   "execution_count": null,
   "id": "0d396d48",
   "metadata": {},
   "outputs": [],
   "source": []
  }
 ],
 "metadata": {
  "kernelspec": {
   "display_name": "Python 3 (ipykernel)",
   "language": "python",
   "name": "python3"
  },
  "language_info": {
   "codemirror_mode": {
    "name": "ipython",
    "version": 3
   },
   "file_extension": ".py",
   "mimetype": "text/x-python",
   "name": "python",
   "nbconvert_exporter": "python",
   "pygments_lexer": "ipython3",
   "version": "3.11.5"
  }
 },
 "nbformat": 4,
 "nbformat_minor": 5
}
