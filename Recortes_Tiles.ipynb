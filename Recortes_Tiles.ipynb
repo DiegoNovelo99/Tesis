{
 "cells": [
  {
   "cell_type": "code",
   "execution_count": 1,
   "metadata": {
    "executionInfo": {
     "elapsed": 155,
     "status": "ok",
     "timestamp": 1701192259470,
     "user": {
      "displayName": "Diego Novelo Pech",
      "userId": "13093242502858053909"
     },
     "user_tz": 360
    },
    "id": "R0C_Qv7VJxKE"
   },
   "outputs": [],
   "source": [
    "from PIL import Image\n",
    "import os\n"
   ]
  },
  {
   "cell_type": "code",
   "execution_count": 2,
   "metadata": {
    "executionInfo": {
     "elapsed": 6,
     "status": "ok",
     "timestamp": 1701192259635,
     "user": {
      "displayName": "Diego Novelo Pech",
      "userId": "13093242502858053909"
     },
     "user_tz": 360
    },
    "id": "2cjaU3tgJ90j"
   },
   "outputs": [],
   "source": [
    "# Directorio de entrada\n",
    "input_directory = r\"E:\\DATASETSSSS\\ImagenesPre\\Clases\\Muerdago\"\n",
    "# Directorio de salida\n",
    "output_directory = r\"E:\\DATASETSSSS\\ImagenesPre\\Tiles\\Muerdago\""
   ]
  },
  {
   "cell_type": "code",
   "execution_count": 3,
   "metadata": {
    "executionInfo": {
     "elapsed": 7,
     "status": "ok",
     "timestamp": 1701192259636,
     "user": {
      "displayName": "Diego Novelo Pech",
      "userId": "13093242502858053909"
     },
     "user_tz": 360
    },
    "id": "QDkn1ep-KCRA"
   },
   "outputs": [],
   "source": [
    "# Tamaño de recorte\n",
    "tamano = 16"
   ]
  },
  {
   "cell_type": "code",
   "execution_count": 4,
   "metadata": {
    "executionInfo": {
     "elapsed": 6,
     "status": "ok",
     "timestamp": 1701192259636,
     "user": {
      "displayName": "Diego Novelo Pech",
      "userId": "13093242502858053909"
     },
     "user_tz": 360
    },
    "id": "6IZEg98JKD88"
   },
   "outputs": [],
   "source": [
    "# Contador para llevar un registro de imágenes leídas y recortadas\n",
    "contador_imagenes_leidas = 0\n",
    "contador_imagenes_recortadas = 0\n",
    "\n",
    "# Lista para almacenar los nombres de los archivos antes del recorte\n",
    "nombres_archivos = []"
   ]
  },
  {
   "cell_type": "code",
   "execution_count": 5,
   "metadata": {
    "colab": {
     "base_uri": "https://localhost:8080/"
    },
    "executionInfo": {
     "elapsed": 6,
     "status": "ok",
     "timestamp": 1701192259636,
     "user": {
      "displayName": "Diego Novelo Pech",
      "userId": "13093242502858053909"
     },
     "user_tz": 360
    },
    "id": "0B7lkOZxKGe-",
    "outputId": "0c77e2a8-9381-4814-a6bd-80d0cb14e1df"
   },
   "outputs": [
    {
     "name": "stdout",
     "output_type": "stream",
     "text": [
      "Antes del recorte, hay 250 imágenes en la carpeta.\n"
     ]
    }
   ],
   "source": [
    "# Iterar sobre los archivos en la carpeta \"Arbol_Muerto\"\n",
    "for filename in os.listdir(input_directory):\n",
    "    if filename.endswith(\".png\"):  # Asegurarse de que sean archivos de imagen\n",
    "        contador_imagenes_leidas += 1\n",
    "        nombres_archivos.append(filename)  # Agregar el nombre del archivo a la lista\n",
    "\n",
    "# Mostrar el número de imágenes antes del recorte\n",
    "print(f\"Antes del recorte, hay {contador_imagenes_leidas} imágenes en la carpeta.\")"
   ]
  },
  {
   "cell_type": "code",
   "execution_count": 6,
   "metadata": {
    "colab": {
     "base_uri": "https://localhost:8080/"
    },
    "executionInfo": {
     "elapsed": 595928,
     "status": "ok",
     "timestamp": 1701192855560,
     "user": {
      "displayName": "Diego Novelo Pech",
      "userId": "13093242502858053909"
     },
     "user_tz": 360
    },
    "id": "HCr4JAnuKGik",
    "outputId": "a6e19190-959f-4c9b-a0ca-583da235e6fc"
   },
   "outputs": [
    {
     "name": "stdout",
     "output_type": "stream",
     "text": [
      "Se recortaron y guardaron 90250 imágenes.\n"
     ]
    }
   ],
   "source": [
    "# Iterar nuevamente sobre los nombres de archivos y realizar el recorte\n",
    "for filename in nombres_archivos:\n",
    "    imagenare = Image.open(os.path.join(input_directory, filename))\n",
    "    ancho, alto = imagenare.size\n",
    "\n",
    "    for i in range(0, ancho, tamano):\n",
    "        for j in range(0, alto, tamano):\n",
    "            box = (i, j, i + tamano, j + tamano)\n",
    "            region = imagenare.crop(box)\n",
    "            output_filename = filename.replace('.png', f'_seg_{i}_{j}.jpg')\n",
    "            region.save(os.path.join(output_directory, output_filename))\n",
    "            contador_imagenes_recortadas += 1\n",
    "\n",
    "# Imprimir el número de imágenes recortadas en la consola\n",
    "print(f\"Se recortaron y guardaron {contador_imagenes_recortadas} imágenes.\")"
   ]
  }
 ],
 "metadata": {
  "colab": {
   "authorship_tag": "ABX9TyPQSbq/KMsXerpH8y1BBblF",
   "gpuType": "T4",
   "mount_file_id": "1vVRtyh_6b9ZLKu0Puvs5Jot9dVjQgXRz",
   "provenance": []
  },
  "kernelspec": {
   "display_name": "Python 3 (ipykernel)",
   "language": "python",
   "name": "python3"
  },
  "language_info": {
   "codemirror_mode": {
    "name": "ipython",
    "version": 3
   },
   "file_extension": ".py",
   "mimetype": "text/x-python",
   "name": "python",
   "nbconvert_exporter": "python",
   "pygments_lexer": "ipython3",
   "version": "3.11.5"
  }
 },
 "nbformat": 4,
 "nbformat_minor": 1
}
