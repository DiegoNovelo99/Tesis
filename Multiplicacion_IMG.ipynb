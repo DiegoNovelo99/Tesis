{
 "cells": [
  {
   "cell_type": "code",
   "execution_count": null,
   "metadata": {
    "executionInfo": {
     "elapsed": 201,
     "status": "ok",
     "timestamp": 1701150415802,
     "user": {
      "displayName": "Diego Novelo Pech",
      "userId": "13093242502858053909"
     },
     "user_tz": 360
    },
    "id": "kH-sxJcmofAQ"
   },
   "outputs": [],
   "source": [
    "import cv2 as cv\n",
    "import matplotlib.pyplot as plt\n",
    "from PIL import Image\n",
    "import os\n",
    "import numpy as np"
   ]
  },
  {
   "cell_type": "code",
   "execution_count": null,
   "metadata": {
    "executionInfo": {
     "elapsed": 4,
     "status": "ok",
     "timestamp": 1701150415949,
     "user": {
      "displayName": "Diego Novelo Pech",
      "userId": "13093242502858053909"
     },
     "user_tz": 360
    },
    "id": "OhGhdcrbotp-"
   },
   "outputs": [],
   "source": [
    "def procesar_carpeta(original_folder, segmentada_folder, salida_folder):\n",
    "    # Obtener la lista de archivos en ambas carpetas\n",
    "    archivos_originales = os.listdir(original_folder)\n",
    "    archivos_segmentados = os.listdir(segmentada_folder)\n",
    "\n",
    "    # Iterar a través de los archivos en ambas carpetas\n",
    "    for archivo_original in archivos_originales:\n",
    "        # Construir las rutas de los archivos originales y segmentados\n",
    "        ruta_original = os.path.join(original_folder, archivo_original)\n",
    "\n",
    "        # Asegurarse de que el archivo original tenga un archivo correspondiente en la carpeta segmentada\n",
    "        archivo_segmentado = archivo_original.replace('.png', '_Seg.png')\n",
    "        if archivo_segmentado not in archivos_segmentados:\n",
    "            continue\n",
    "\n",
    "        ruta_segmentada = os.path.join(segmentada_folder, archivo_segmentado)\n",
    "\n",
    "        # Procesar las imágenes\n",
    "        procesar_imagen(ruta_original, ruta_segmentada, salida_folder)"
   ]
  },
  {
   "cell_type": "code",
   "execution_count": null,
   "metadata": {
    "executionInfo": {
     "elapsed": 4,
     "status": "ok",
     "timestamp": 1701150415950,
     "user": {
      "displayName": "Diego Novelo Pech",
      "userId": "13093242502858053909"
     },
     "user_tz": 360
    },
    "id": "F3M4gdSaoy9F"
   },
   "outputs": [],
   "source": [
    "# ...\n",
    "\n",
    "def procesar_imagen(imagen_original, imagen_segmentada, carpeta_salida):\n",
    "    nombre_original = os.path.basename(imagen_original)\n",
    "    nombre_segmentada = os.path.basename(imagen_segmentada)\n",
    "\n",
    "    # Cargar imágenes\n",
    "    imagen = cv.imread(imagen_original)\n",
    "    imagenseg = cv.imread(imagen_segmentada)\n",
    "\n",
    "    imagen = cv.cvtColor(imagen, cv.COLOR_BGR2RGB)\n",
    "    imagenseg = cv.cvtColor(imagenseg, cv.COLOR_BGR2RGB)\n",
    "\n",
    "    # Normalizar la imagen segmentada en valores entre 0 y 1\n",
    "    imagenseg_norm = imagenseg.astype(float) / 255.0\n",
    "\n",
    "    # Convertir las imágenes en arreglos\n",
    "    matriz = np.asarray(imagen)\n",
    "    matrizseg = np.asarray(imagenseg_norm)\n",
    "\n",
    "    # Multiplicar los arreglos de la imagen segmentada y la original\n",
    "    multi = np.multiply(matrizseg, matriz)\n",
    "\n",
    "    # Visualizar la imagen multiplicada antes de guardarla\n",
    "    plt.subplot(131)\n",
    "    plt.imshow(imagen)\n",
    "    plt.title('Imagen Original')\n",
    "    plt.subplot(132)\n",
    "    plt.imshow(imagenseg)\n",
    "    plt.title('Imagen Segmentada')\n",
    "    plt.subplot(133)\n",
    "    plt.imshow(multi.astype('uint8'))\n",
    "    plt.title('Imagen Multiplicada')\n",
    "    plt.show()\n",
    "\n",
    "    # Guardar la imagen multiplicada\n",
    "    imagen_multiplicada = Image.fromarray(multi.astype('uint8'))\n",
    "    imagen_multiplicada.save(os.path.join(carpeta_salida, f\"Muerdago/{nombre_segmentada.replace('_Seg.png', '_seg.png')}\"))\n",
    "\n",
    "    # Multiplicar la imagen original por el complemento\n",
    "    multicom = np.multiply(matriz, matrizseg)\n",
    "    complemento_original = matriz - multicom\n",
    "\n",
    "    # Visualizar la imagen complemento antes de guardarla\n",
    "    plt.subplot(121)\n",
    "    plt.imshow(complemento_original.astype('uint8'))\n",
    "    plt.title('Imagen Complemento Original')\n",
    "    plt.show()\n",
    "\n",
    "    # Guardar la imagen multiplicada por el complemento\n",
    "    imagen_complemento_original = Image.fromarray(complemento_original.astype('uint8'))\n",
    "    imagen_complemento_original.save(os.path.join(carpeta_salida, f\"Fondo/{nombre_original.replace('.png', '_fond.png')}\"))"
   ]
  },
  {
   "cell_type": "code",
   "execution_count": null,
   "metadata": {
    "colab": {
     "base_uri": "https://localhost:8080/",
     "height": 1000,
     "output_embedded_package_id": "17Ute7azBJRGOv2DFZj1FwQ-8Xmpchs8A"
    },
    "executionInfo": {
     "elapsed": 268720,
     "status": "ok",
     "timestamp": 1701150684666,
     "user": {
      "displayName": "Diego Novelo Pech",
      "userId": "13093242502858053909"
     },
     "user_tz": 360
    },
    "id": "m_y6DMDBoy_c",
    "outputId": "12cb9b56-f221-43b4-839c-805ac450596b"
   },
   "outputs": [],
   "source": [
    "# Especifica las carpetas de entrada y salida\n",
    "carpeta_original = r\"E:\\DATASETSSSS\\Perturbaciones_Ruido_Progesivo\\NUEVOS\\Gaussiano\\Completas\"\n",
    "carpeta_segmentada = r\"E:\\DATASETSSSS\\ImagenesPre\\Segmentadas\"\n",
    "carpeta_salida = r\"E:\\DATASETSSSS\\Perturbaciones_Ruido_Progesivo\\NUEVOS\\Gaussiano\\Segmentadas\"\n",
    "\n",
    "# Procesa las carpetas\n",
    "procesar_carpeta(carpeta_original, carpeta_segmentada, carpeta_salida)"
   ]
  },
  {
   "cell_type": "code",
   "execution_count": null,
   "metadata": {},
   "outputs": [],
   "source": []
  }
 ],
 "metadata": {
  "colab": {
   "authorship_tag": "ABX9TyNvXZeC15SGu2c2472XQ5nI",
   "provenance": []
  },
  "kernelspec": {
   "display_name": "Python 3 (ipykernel)",
   "language": "python",
   "name": "python3"
  },
  "language_info": {
   "codemirror_mode": {
    "name": "ipython",
    "version": 3
   },
   "file_extension": ".py",
   "mimetype": "text/x-python",
   "name": "python",
   "nbconvert_exporter": "python",
   "pygments_lexer": "ipython3",
   "version": "3.11.5"
  }
 },
 "nbformat": 4,
 "nbformat_minor": 1
}
